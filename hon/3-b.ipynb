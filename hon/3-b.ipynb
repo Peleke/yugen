{
 "cells": [
  {
   "cell_type": "markdown",
   "id": "302766c7-276c-4472-a0a4-a48ba4682f89",
   "metadata": {
    "slideshow": {
     "slide_type": "fragment"
    }
   },
   "source": [
    "# [初心者](https://www.kanshudo.com/word/%E5%88%9D%E5%BF%83%E8%80%85/1342860?oq=%E5%88%9D%E5%BF%83%E8%80%85)[授業](https://www.kanshudo.com/word/%E6%8E%88%E6%A5%AD/1330290?oq=%E6%8E%88%E6%A5%AD)三\n",
    "\n",
    "Introduction to the て-Form & Ways to Say \"Which\"\n"
   ]
  },
  {
   "cell_type": "markdown",
   "id": "a8a42ea5",
   "metadata": {
    "slideshow": {
     "slide_type": "slide"
    }
   },
   "source": [
    "## 例文: Batch 1"
   ]
  },
  {
   "cell_type": "markdown",
   "id": "bb00d4f0",
   "metadata": {
    "slideshow": {
     "slide_type": "subslide"
    }
   },
   "source": [
    "January is very cold."
   ]
  },
  {
   "cell_type": "markdown",
   "id": "e32a8af5",
   "metadata": {
    "slideshow": {
     "slide_type": "fragment"
    }
   },
   "source": [
    "**[一月とはても寒いです。](https://www.kanshudo.com/example/152616)**"
   ]
  },
  {
   "cell_type": "markdown",
   "id": "31aa0ecf",
   "metadata": {
    "slideshow": {
     "slide_type": "fragment"
    }
   },
   "source": [
    "Tomorrow is January 3rd."
   ]
  },
  {
   "cell_type": "markdown",
   "id": "136a0a48",
   "metadata": {
    "slideshow": {
     "slide_type": "fragment"
    }
   },
   "source": [
    "**[あしたは一がつみっ日です。](https://www.kanshudo.com/example/152630)**"
   ]
  },
  {
   "cell_type": "markdown",
   "id": "389118a9",
   "metadata": {
    "slideshow": {
     "slide_type": "subslide"
    }
   },
   "source": [
    "When is your birthday?"
   ]
  },
  {
   "cell_type": "markdown",
   "id": "412614e1",
   "metadata": {
    "slideshow": {
     "slide_type": "fragment"
    }
   },
   "source": [
    "**[たんじょう日はいつですか。](https://www.kanshudo.com/example/152627)**"
   ]
  },
  {
   "cell_type": "markdown",
   "id": "1ba7f083",
   "metadata": {
    "slideshow": {
     "slide_type": "fragment"
    }
   },
   "source": [
    "My birthday is on the first."
   ]
  },
  {
   "cell_type": "markdown",
   "id": "e54b21ee",
   "metadata": {
    "slideshow": {
     "slide_type": "fragment"
    }
   },
   "source": [
    "**[わたしのたんじょう日は一日です。](https://www.kanshudo.com/example/152629)**"
   ]
  },
  {
   "cell_type": "markdown",
   "id": "df38c5de",
   "metadata": {
    "slideshow": {
     "slide_type": "subslide"
    }
   },
   "source": [
    "Saturday is my birthday."
   ]
  },
  {
   "cell_type": "markdown",
   "id": "ed862aec",
   "metadata": {
    "slideshow": {
     "slide_type": "fragment"
    }
   },
   "source": [
    "**[どよう日はわたしのたんじょう日です。](https://www.kanshudo.com/example/152628)**"
   ]
  },
  {
   "cell_type": "markdown",
   "id": "aca584fa",
   "metadata": {
    "slideshow": {
     "slide_type": "fragment"
    }
   },
   "source": [
    "I'm going to Japan on Monday."
   ]
  },
  {
   "cell_type": "markdown",
   "id": "0ec57f49",
   "metadata": {
    "slideshow": {
     "slide_type": "fragment"
    }
   },
   "source": [
    "**[げつよう日に日ほんにいきます。](https://www.kanshudo.com/example/152632)**"
   ]
  },
  {
   "cell_type": "markdown",
   "id": "63e2b71a",
   "metadata": {
    "slideshow": {
     "slide_type": "subslide"
    }
   },
   "source": [
    "I'm going to the park on Sunday."
   ]
  },
  {
   "cell_type": "markdown",
   "id": "a843e195",
   "metadata": {
    "slideshow": {
     "slide_type": "fragment"
    }
   },
   "source": [
    "**[日ようびにこうえんにいきます。](https://www.kanshudo.com/example/152624)**"
   ]
  },
  {
   "cell_type": "markdown",
   "id": "b3d93e40",
   "metadata": {
    "slideshow": {
     "slide_type": "fragment"
    }
   },
   "source": [
    " I will watch a movie by myself on Sunday."
   ]
  },
  {
   "cell_type": "markdown",
   "id": "d3b57da8",
   "metadata": {
    "slideshow": {
     "slide_type": "fragment"
    }
   },
   "source": [
    "**[仁比曜日に映画を一人りでみます。](https://www.kanshudo.com/example/152614)**"
   ]
  },
  {
   "cell_type": "markdown",
   "id": "b852e2f7",
   "metadata": {
    "slideshow": {
     "slide_type": "subslide"
    }
   },
   "source": [
    " I read a book every day."
   ]
  },
  {
   "cell_type": "markdown",
   "id": "0749db49",
   "metadata": {
    "slideshow": {
     "slide_type": "fragment"
    }
   },
   "source": [
    "**[まい日ほんをよみます。](https://www.kanshudo.com/example/152622)**"
   ]
  },
  {
   "cell_type": "markdown",
   "id": "6e3642d2",
   "metadata": {
    "slideshow": {
     "slide_type": "fragment"
    }
   },
   "source": [
    "I go to Japan every year."
   ]
  },
  {
   "cell_type": "markdown",
   "id": "f777116f",
   "metadata": {},
   "source": [
    "**[まい年わたしは日ほんにいきます。](https://www.kanshudo.com/example/152633)**"
   ]
  },
  {
   "cell_type": "markdown",
   "id": "7bc791ee",
   "metadata": {
    "slideshow": {
     "slide_type": "subslide"
    }
   },
   "source": [
    "One green tea please."
   ]
  },
  {
   "cell_type": "markdown",
   "id": "59b16936",
   "metadata": {
    "slideshow": {
     "slide_type": "fragment"
    }
   },
   "source": [
    "**[おちゃを一つください。](https://www.kanshudo.com/example/152617)**"
   ]
  },
  {
   "cell_type": "markdown",
   "id": "2daa2fe4",
   "metadata": {
    "slideshow": {
     "slide_type": "fragment"
    }
   },
   "source": [
    "How many siblings do you have?"
   ]
  },
  {
   "cell_type": "markdown",
   "id": "af46bec6",
   "metadata": {
    "slideshow": {
     "slide_type": "fragment"
    }
   },
   "source": [
    "**[あなたのきょうだいはなん人いますか。](https://www.kanshudo.com/example/152611)**"
   ]
  },
  {
   "cell_type": "markdown",
   "id": "894731f9",
   "metadata": {
    "slideshow": {
     "slide_type": "subslide"
    }
   },
   "source": [
    "### Exercises: Batch 1"
   ]
  },
  {
   "cell_type": "markdown",
   "id": "5161262e",
   "metadata": {
    "slideshow": {
     "slide_type": "subslide"
    }
   },
   "source": [
    "I am going to leave at 1 o'clock."
   ]
  },
  {
   "cell_type": "markdown",
   "id": "62d2031b",
   "metadata": {
    "slideshow": {
     "slide_type": "fragment"
    }
   },
   "source": [
    "**[わたしは一じに出ます。](https://www.kanshudo.com/example/152636)**"
   ]
  },
  {
   "cell_type": "markdown",
   "id": "08329ec4",
   "metadata": {
    "slideshow": {
     "slide_type": "fragment"
    }
   },
   "source": [
    "Let's go shopping on Thursday."
   ]
  },
  {
   "cell_type": "markdown",
   "id": "3bde0e48",
   "metadata": {
    "slideshow": {
     "slide_type": "fragment"
    }
   },
   "source": [
    "**[木よう日にかいものしましょう。](https://www.kanshudo.com/example/152647)**"
   ]
  },
  {
   "cell_type": "markdown",
   "id": "223e1b68",
   "metadata": {
    "slideshow": {
     "slide_type": "subslide"
    }
   },
   "source": [
    "Let's go inside."
   ]
  },
  {
   "cell_type": "markdown",
   "id": "72739177",
   "metadata": {
    "slideshow": {
     "slide_type": "fragment"
    }
   },
   "source": [
    "**[なかに入りましょう。](https://www.kanshudo.com/example/152638)**"
   ]
  },
  {
   "cell_type": "markdown",
   "id": "0dfca2b6",
   "metadata": {
    "slideshow": {
     "slide_type": "fragment"
    }
   },
   "source": [
    "Let's meet at the entrance."
   ]
  },
  {
   "cell_type": "markdown",
   "id": "68cafd60",
   "metadata": {
    "slideshow": {
     "slide_type": "fragment"
    }
   },
   "source": [
    "**[入口であいましょう。](https://www.kanshudo.com/example/152642)**"
   ]
  },
  {
   "cell_type": "markdown",
   "id": "6efe57b4",
   "metadata": {
    "slideshow": {
     "slide_type": "subslide"
    }
   },
   "source": [
    "I bought this book on Sunday."
   ]
  },
  {
   "cell_type": "markdown",
   "id": "d539e2ed",
   "metadata": {
    "slideshow": {
     "slide_type": "fragment"
    }
   },
   "source": [
    "**[日ようびにこの本をかいました。](https://www.kanshudo.com/example/152648](https://www.kanshudo.com/example/152648)**"
   ]
  },
  {
   "cell_type": "markdown",
   "id": "652c9bbd",
   "metadata": {
    "slideshow": {
     "slide_type": "fragment"
    }
   },
   "source": [
    "And I put it inside my bag."
   ]
  },
  {
   "cell_type": "markdown",
   "id": "aa322e0e",
   "metadata": {
    "slideshow": {
     "slide_type": "fragment"
    }
   },
   "source": [
    "**[そしてわたしのかばんのなかに入れました。](https://www.kanshudo.com/example/152639)**"
   ]
  },
  {
   "cell_type": "markdown",
   "id": "ad42c288",
   "metadata": {
    "slideshow": {
     "slide_type": "subslide"
    }
   },
   "source": [
    "That tree is really big, isn't it?"
   ]
  },
  {
   "cell_type": "markdown",
   "id": "11b3d1ad",
   "metadata": {
    "slideshow": {
     "slide_type": "fragment"
    }
   },
   "source": [
    "**[あの木はとても大きいですね。](https://www.kanshudo.com/example/152644)**"
   ]
  },
  {
   "cell_type": "markdown",
   "id": "8b944f45",
   "metadata": {
    "slideshow": {
     "slide_type": "skip"
    }
   },
   "source": [
    "Sentences taken from Kanshudo. Sentences, vocabulary & Kanji from these lessons:\n",
    "- [Beginner Lesson 1](https://www.kanshudo.com/beginnerlessons/lesson/apzxab/review)\n",
    "- [Beginner Lesson 2](https://www.kanshudo.com/beginnerlessons/lesson/cgeq7l/review)"
   ]
  },
  {
   "cell_type": "markdown",
   "id": "308c4cca",
   "metadata": {
    "slideshow": {
     "slide_type": "slide"
    }
   },
   "source": [
    "## Grammar\n",
    "Today, we'll cover ません; core uses of the て-form; and various ways to say which."
   ]
  },
  {
   "cell_type": "markdown",
   "id": "470be564",
   "metadata": {
    "slideshow": {
     "slide_type": "subslide"
    }
   },
   "source": [
    "#### 0. [～のが好き（すき）です  like](https://www.kanshudo.com/grammar/%E3%81%99%E3%81%8D)\n",
    "verb phrase + のが好きです means to like doing something.\n",
    "\n",
    "noun + が好きです means to like something.\n",
    "\n",
    "> **例分**<br>\n",
    "> [川にい行ってゆっくりするのが好きです。](https://www.kanshudo.com/example/157492)<br><br>\n",
    "> _I like going to the river and relaxing._"
   ]
  },
  {
   "cell_type": "markdown",
   "id": "156f7d19",
   "metadata": {
    "slideshow": {
     "slide_type": "subslide"
    }
   },
   "source": [
    "#### 1. verb stem + ません  negative\n",
    "Attaching ません to the stem of a verb generates the polite negative form, e.g., \"do/will not\".\n",
    "\n",
    "The verb stem for　一段　verbs is simply what remains after removing る, e.g.:\n",
    "- 食べる　=> 食べ\n",
    "\n",
    "For 五段　verbs, it is what remains after removing ます from the polite ending, and will always terminate in -い, e.g.:\n",
    "- 帰ります　=> 帰り"
   ]
  },
  {
   "cell_type": "markdown",
   "id": "b1ff6d7e",
   "metadata": {
    "slideshow": {
     "slide_type": "subslide"
    }
   },
   "source": [
    "#### Examples:  verb stem + ません  negative"
   ]
  },
  {
   "cell_type": "markdown",
   "id": "cd99c3f3",
   "metadata": {
    "slideshow": {
     "slide_type": "fragment"
    }
   },
   "source": [
    "I am not going to Japan next week."
   ]
  },
  {
   "cell_type": "markdown",
   "id": "4fb88098",
   "metadata": {
    "slideshow": {
     "slide_type": "fragment"
    }
   },
   "source": [
    "**来週日本に行きません。**"
   ]
  },
  {
   "cell_type": "markdown",
   "id": "6e9520dc",
   "metadata": {
    "slideshow": {
     "slide_type": "fragment"
    }
   },
   "source": [
    "I don't like looking at you."
   ]
  },
  {
   "cell_type": "markdown",
   "id": "ccfeaef2",
   "metadata": {
    "slideshow": {
     "slide_type": "fragment"
    }
   },
   "source": [
    "**あなたをみるの好きがじゃありません。**"
   ]
  },
  {
   "cell_type": "markdown",
   "id": "98e2f164",
   "metadata": {
    "slideshow": {
     "slide_type": "subslide"
    }
   },
   "source": [
    "#### 2. Exploring te (sic) て-form"
   ]
  },
  {
   "cell_type": "markdown",
   "id": "8517dbf1",
   "metadata": {
    "slideshow": {
     "slide_type": "fragment"
    }
   },
   "source": [
    "**2.1. The Form of the て-form**\n",
    "\n",
    "Forming the て-form of verbs requires some digging.\n",
    "\n",
    "There are, of course, two broad categories of verbs: [一段](https://www.kanshudo.com/grammar/%E4%B8%80%E6%AE%B5) and [五段](https://www.kanshudo.com/grammar?q=godan). -て form conjugation is [different in both cases](https://www.kanshudo.com/grammar?q=te%20form)."
   ]
  },
  {
   "cell_type": "markdown",
   "id": "97d2428a",
   "metadata": {
    "slideshow": {
     "slide_type": "subslide"
    }
   },
   "source": [
    "**2.1. The Form of the て-form: 一段 Formation**<br>\n",
    "一段 verbs create the て-form by removing the final る and replacing it with て:\n",
    "- 食べる => 食べて\n",
    "- 生きる => 生きて\n",
    "- 見せる => 見せて\n",
    "- 見る　 => 見て\n",
    "- 起きる => 起きて\n",
    "\n",
    "As always, 一段 verbs play nice."
   ]
  },
  {
   "cell_type": "markdown",
   "id": "9e095782",
   "metadata": {
    "slideshow": {
     "slide_type": "subslide"
    }
   },
   "source": [
    "**2.1. The Form of the て-form: 一段 Formation**<br>\n",
    "五段　verbs are more complicated, as the て-form depends on the final consonant."
   ]
  },
  {
   "cell_type": "markdown",
   "id": "cbc313fd",
   "metadata": {
    "slideshow": {
     "slide_type": "subslide"
    }
   },
   "source": [
    "**て-Form in -って**<br>\n",
    "Verbs ending in う, つ, and る replace these elements with って.\n",
    "- **Ending in -う**\n",
    "  - **Conjugation**: う => って\n",
    "  - **Example**: 違う => 違って\n",
    "- **Ending in -つ**\n",
    "  - **Conjugation**: つ => って\n",
    "  - **Example**: 待つ => 待って\n",
    "- **Ending in -る**\n",
    "  - **Conjugation**: る => って\n",
    "  - **Example**: 走る =>　走って"
   ]
  },
  {
   "cell_type": "markdown",
   "id": "6181550e",
   "metadata": {
    "slideshow": {
     "slide_type": "subslide"
    }
   },
   "source": [
    "**て-Form in -んで**<br>\n",
    "Verbs ending in ぬ, ぶ, and む replace these elements with んで.\n",
    "- **Ending in -ぬ**\n",
    "  - **Conjugation**: ぬ => んで\n",
    "  - **Example**: 死ぬ　=> 死んで\n",
    "- **Ending in -ぶ**\n",
    "  - **Conjugation**: ぶ => んで\n",
    "  - **Example**: 呼ぶ => 呼んで\n",
    "- **Ending in -む**\n",
    "  - **Conjugation**: む => んで\n",
    "  - **Example**: 読む => 読んで\n",
    " "
   ]
  },
  {
   "cell_type": "markdown",
   "id": "30bca82e",
   "metadata": {
    "slideshow": {
     "slide_type": "subslide"
    }
   },
   "source": [
    "**て-Form in -いて**<br>\n",
    "Verbs ending in -く take -いて in the て-form:\n",
    "- 書く => 書いて\n",
    "- 聞く => 聞いて"
   ]
  },
  {
   "cell_type": "markdown",
   "id": "0ccc5ed5",
   "metadata": {
    "slideshow": {
     "slide_type": "subslide"
    }
   },
   "source": [
    "\n",
    "**て-Form in -して**<br>\n",
    "Verbs ending in -す take -して in the て-form:\n",
    "- 話す => 話して"
   ]
  },
  {
   "cell_type": "markdown",
   "id": "0068c608",
   "metadata": {
    "slideshow": {
     "slide_type": "subslide"
    }
   },
   "source": [
    "**2.2. verb て-form + ください  please (do, go, open, etc)**\n",
    "\n",
    "Used to request or politely order someone to do something.\n",
    "\n",
    "> **例文**<br>\n",
    "> _Please go to the supermarket tomorrow._<br>\n",
    "> **明日スーパーに行きてください。**"
   ]
  },
  {
   "cell_type": "markdown",
   "id": "35de651e",
   "metadata": {
    "slideshow": {
     "slide_type": "subslide"
    }
   },
   "source": [
    "**2.3. verb て-form + ください  please (do, go, open, etc)**<br>\n",
    "[verb て form + いただけませんか  will you please do](https://www.kanshudo.com/grammar/%E3%81%A6%E3%81%84%E3%81%9F%E3%81%A0%E3%81%91%E3%81%BE%E3%81%9B%E3%82%93%E3%81%8B)\n",
    "\n",
    "verb て form + いただけませんか means will you please do (something for me). It is a politer way to request an action than てください.\n",
    "\n",
    "> [今週金曜日に発表していただけませんか。](https://www.kanshudo.com/example/156164)<br>\n",
    "> _Could you please announce it this Friday?_"
   ]
  },
  {
   "cell_type": "markdown",
   "id": "a6eb2844",
   "metadata": {
    "slideshow": {
     "slide_type": "subslide"
    }
   },
   "source": [
    "This form can also be used to ask for permission. For example, when asking permission to use something, the typical form is 'X を\n",
    "貸していただけませんか', which literally means 'would you please lend me (X)'.\n",
    "\n",
    "> [電話を貸していただけませんか。](https://www.kanshudo.com/example/49946)<br>\n",
    "> _Will you let me use your telephone, please?_"
   ]
  },
  {
   "cell_type": "markdown",
   "id": "3f485571",
   "metadata": {
    "slideshow": {
     "slide_type": "subslide"
    }
   },
   "source": [
    "**Exercises: 一段**"
   ]
  },
  {
   "cell_type": "markdown",
   "id": "74f3dfa7",
   "metadata": {
    "slideshow": {
     "slide_type": "fragment"
    }
   },
   "source": [
    "Please eat this sushi."
   ]
  },
  {
   "cell_type": "markdown",
   "id": "11509312",
   "metadata": {
    "slideshow": {
     "slide_type": "fragment"
    }
   },
   "source": [
    "この寿司を食べてください。"
   ]
  },
  {
   "cell_type": "markdown",
   "id": "71ab4e6f",
   "metadata": {
    "slideshow": {
     "slide_type": "fragment"
    }
   },
   "source": [
    "Please let me see her bag."
   ]
  },
  {
   "cell_type": "markdown",
   "id": "751cb925",
   "metadata": {
    "slideshow": {
     "slide_type": "fragment"
    }
   },
   "source": [
    "彼女のかばんを見せてください。"
   ]
  },
  {
   "cell_type": "markdown",
   "id": "d811b005",
   "metadata": {
    "slideshow": {
     "slide_type": "subslide"
    }
   },
   "source": [
    "Please watch this movie by tomorrow."
   ]
  },
  {
   "cell_type": "markdown",
   "id": "79779d26",
   "metadata": {
    "slideshow": {
     "slide_type": "fragment"
    }
   },
   "source": [
    "明日までにこの映画を見てください。"
   ]
  },
  {
   "cell_type": "markdown",
   "id": "bb10b22a",
   "metadata": {
    "slideshow": {
     "slide_type": "fragment"
    }
   },
   "source": [
    "Please get up by seven tomorrow."
   ]
  },
  {
   "cell_type": "markdown",
   "id": "8afa4c3d",
   "metadata": {
    "slideshow": {
     "slide_type": "fragment"
    }
   },
   "source": [
    "明日七時までに起きてください。"
   ]
  },
  {
   "cell_type": "markdown",
   "id": "c486da00",
   "metadata": {
    "slideshow": {
     "slide_type": "subslide"
    }
   },
   "source": [
    "**Exercises: 五段**<br>"
   ]
  },
  {
   "cell_type": "markdown",
   "id": "0adfa7b2",
   "metadata": {
    "slideshow": {
     "slide_type": "fragment"
    }
   },
   "source": [
    "Please laugh at my jokes."
   ]
  },
  {
   "cell_type": "markdown",
   "id": "7702c352",
   "metadata": {
    "slideshow": {
     "slide_type": "fragment"
    }
   },
   "source": [
    "私の冗談を笑ってください。"
   ]
  },
  {
   "cell_type": "markdown",
   "id": "d0469df4",
   "metadata": {
    "slideshow": {
     "slide_type": "fragment"
    }
   },
   "source": [
    "Please hold my drink."
   ]
  },
  {
   "cell_type": "markdown",
   "id": "4c36cebd",
   "metadata": {
    "slideshow": {
     "slide_type": "fragment"
    }
   },
   "source": [
    "私の飲み物を持ってください。"
   ]
  },
  {
   "cell_type": "markdown",
   "id": "f7115660",
   "metadata": {
    "slideshow": {
     "slide_type": "subslide"
    }
   },
   "source": [
    "Please come back by next Thursday."
   ]
  },
  {
   "cell_type": "markdown",
   "id": "0d513891",
   "metadata": {
    "slideshow": {
     "slide_type": "fragment"
    }
   },
   "source": [
    "来週の木曜日までに返ってください。"
   ]
  },
  {
   "cell_type": "markdown",
   "id": "78d03f2f",
   "metadata": {
    "slideshow": {
     "slide_type": "fragment"
    }
   },
   "source": [
    "Please die now."
   ]
  },
  {
   "cell_type": "markdown",
   "id": "420e62d4",
   "metadata": {
    "slideshow": {
     "slide_type": "fragment"
    }
   },
   "source": [
    "今死んでください。"
   ]
  },
  {
   "cell_type": "markdown",
   "id": "d5430867",
   "metadata": {
    "slideshow": {
     "slide_type": "subslide"
    }
   },
   "source": [
    "Please call me Mike."
   ]
  },
  {
   "cell_type": "markdown",
   "id": "b28c2fb5",
   "metadata": {
    "slideshow": {
     "slide_type": "fragment"
    }
   },
   "source": [
    "マイクと呼んでください。"
   ]
  },
  {
   "cell_type": "markdown",
   "id": "1e1860d8",
   "metadata": {
    "slideshow": {
     "slide_type": "fragment"
    }
   },
   "source": [
    "Please read this new manga by tomorrow."
   ]
  },
  {
   "cell_type": "markdown",
   "id": "0746bc5c",
   "metadata": {
    "slideshow": {
     "slide_type": "fragment"
    }
   },
   "source": [
    "明日までにこの新し漫画を読でください。"
   ]
  },
  {
   "cell_type": "markdown",
   "id": "47c6cc42",
   "metadata": {
    "slideshow": {
     "slide_type": "subslide"
    }
   },
   "source": [
    "Please write mom a letter."
   ]
  },
  {
   "cell_type": "markdown",
   "id": "18a3b4d3",
   "metadata": {
    "slideshow": {
     "slide_type": "fragment"
    }
   },
   "source": [
    "[お母さん](https://www.kanshudo.com/grammar/%E7%88%B6)に手紙を[書](https://www.kanshudo.com/grammar/%E8%81%9E%E3%81%8F)いてください。"
   ]
  },
  {
   "cell_type": "markdown",
   "id": "4e1a0d1f",
   "metadata": {
    "slideshow": {
     "slide_type": "fragment"
    }
   },
   "source": [
    "Please listen to sensei."
   ]
  },
  {
   "cell_type": "markdown",
   "id": "df57d80c",
   "metadata": {
    "slideshow": {
     "slide_type": "fragment"
    }
   },
   "source": [
    "先生に聞いてください。"
   ]
  },
  {
   "cell_type": "markdown",
   "id": "3fa37a86",
   "metadata": {
    "slideshow": {
     "slide_type": "fragment"
    }
   },
   "source": [
    "Please speak Japanese with me."
   ]
  },
  {
   "cell_type": "markdown",
   "id": "1282bbf6",
   "metadata": {
    "slideshow": {
     "slide_type": "fragment"
    }
   },
   "source": [
    "私と日本語で話してください。"
   ]
  },
  {
   "cell_type": "markdown",
   "id": "4ad52e96",
   "metadata": {
    "slideshow": {
     "slide_type": "subslide"
    }
   },
   "source": [
    "**2.4. [て-form meaning \"and\"](https://www.kanshudo.com/grammar/%E3%81%A6_and)**<br>\n",
    "\n",
    "When a verb is in the て form, it functions as though it is followed by the conjunction 'and' in English.\n",
    "\n",
    "> ごはんを食べて、いえにかえります。"
   ]
  },
  {
   "cell_type": "markdown",
   "id": "895b07aa",
   "metadata": {
    "slideshow": {
     "slide_type": "subslide"
    }
   },
   "source": [
    "**Examples**<br>"
   ]
  },
  {
   "cell_type": "markdown",
   "id": "523d01d4",
   "metadata": {
    "slideshow": {
     "slide_type": "fragment"
    }
   },
   "source": [
    "Winter is over and spring is here."
   ]
  },
  {
   "cell_type": "markdown",
   "id": "27478767",
   "metadata": {
    "slideshow": {
     "slide_type": "fragment"
    }
   },
   "source": [
    "[[Ex.]](https://www.kanshudo.com/example/49691?) [冬が](https://www.kanshudo.com/word/%E5%86%AC/1446070?oq=%E5%86%AC)[終わって](https://www.kanshudo.com/word/%E7%B5%82%E3%82%8F%E3%82%8B/1589600?oq=%E7%B5%82%E3%82%8F%E3%82%8B)、[春](https://www.kanshudo.com/word/%E6%98%A5/1341000?oq=%E6%98%A5)が[来ました](https://www.kanshudo.com/word/%E6%9D%A5%E3%82%8B/1547720?oq=kuru)。"
   ]
  },
  {
   "cell_type": "markdown",
   "id": "05b01dd6",
   "metadata": {
    "slideshow": {
     "slide_type": "fragment"
    }
   },
   "source": [
    "She sat down and smoked (tobacco)."
   ]
  },
  {
   "cell_type": "markdown",
   "id": "c3ce9bd2",
   "metadata": {
    "slideshow": {
     "slide_type": "fragment"
    }
   },
   "source": [
    "[[Ex.]]() 彼女は[座って](https://www.kanshudo.com/word/%E5%BA%A7%E3%82%8B/1291800?oq=%E5%BA%A7%E3%82%8B)[煙草](https://www.kanshudo.com/word/%E7%85%99%E8%8D%89/1597150?oq=%E7%85%99%E8%8D%89)を[吸った](https://www.kanshudo.com/word/%E5%90%B8%E3%81%86/1228260?oq=%E5%90%B8%E3%81%86)。"
   ]
  },
  {
   "cell_type": "markdown",
   "id": "92a86d9f",
   "metadata": {
    "slideshow": {
     "slide_type": "subslide"
    }
   },
   "source": [
    "**Exercises**<br>\n",
    "WIP"
   ]
  },
  {
   "cell_type": "markdown",
   "id": "fd7c8fd1",
   "metadata": {
    "slideshow": {
     "slide_type": "notes"
    }
   },
   "source": [
    "**Supplemental Exercises**<br>\n",
    "Use each verb from vocabulary list in a て-linked sentence.\n",
    "\n",
    "> **Example**\n",
    "> TBD\n"
   ]
  },
  {
   "cell_type": "markdown",
   "id": "f167931c-0566-46b3-83e7-15b5e5335bd7",
   "metadata": {},
   "source": [
    "**2.5a. [verb / adjective て form + も  even if ~](https://www.kanshudo.com/grammar/%E3%81%A6%E3%82%82)**<br>\n",
    "\n",
    "The て-form is the basis for many other contructions, generated by adding appending further suffixes to the terminal -て. \n",
    "\n",
    "One such example is -ても, which induces the basic meaning of _even if..._, but offers many adjacent uses.\n",
    "\n",
    "> **例文**<br>\n",
    "> Even if I work, I won't have money.<br>\n",
    "> 仕事をしても、お金がありません。"
   ]
  },
  {
   "cell_type": "markdown",
   "id": "7c727e85-b99f-4a98-b2d8-4290a104d0d1",
   "metadata": {},
   "source": [
    "**Examples**"
   ]
  },
  {
   "cell_type": "markdown",
   "id": "fcd676d4-bdbd-41e2-bfd2-6fe9b27c5c6c",
   "metadata": {},
   "source": [
    "Even if we go to the restaurant together, I will not eat sushi."
   ]
  },
  {
   "cell_type": "markdown",
   "id": "fedd3d04-a06e-4606-9409-543d4ee3f506",
   "metadata": {},
   "source": [
    "レストランに行きても、寿司を食べません。"
   ]
  },
  {
   "cell_type": "markdown",
   "id": "4cd6dd2c-05d2-4b81-bc31-6e5df40c6ef4",
   "metadata": {},
   "source": [
    "Even if we go to the party, I will not drink."
   ]
  },
  {
   "cell_type": "markdown",
   "id": "b09aa110-d99d-43a9-bfe6-23545264984b",
   "metadata": {},
   "source": [
    "ぱーテイに行きても、飲みません。"
   ]
  },
  {
   "cell_type": "markdown",
   "id": "92044db2-061f-44cd-a1e9-3cce04b3372e",
   "metadata": {},
   "source": [
    "The same thing can be done with nouns, but you must append でも instead.\n",
    "\n",
    "> **Example**<br>\n",
    "> Even in English, I don't know this word.<br>\n",
    "> 英語でも、この言葉知りません。"
   ]
  },
  {
   "cell_type": "markdown",
   "id": "228dc08d-8b01-4342-ac4c-6bf3efae5f99",
   "metadata": {},
   "source": [
    "**Examples**<br>\n",
    "Even on Saturday, I work."
   ]
  },
  {
   "cell_type": "markdown",
   "id": "0015c760-5358-4b95-8b7d-288ca1d9d126",
   "metadata": {},
   "source": [
    "土曜日です、仕事おします。"
   ]
  },
  {
   "cell_type": "markdown",
   "id": "54c9b79a-2e63-459d-92ab-832ce2d09d61",
   "metadata": {},
   "source": [
    "Even on my birthday, I am sad."
   ]
  },
  {
   "cell_type": "markdown",
   "id": "878c6111-3ac0-4094-9f69-2a5f56b8e68a",
   "metadata": {},
   "source": [
    "誕生日でも、悲しいです。"
   ]
  },
  {
   "cell_type": "markdown",
   "id": "f909b96f-3ee9-4727-833e-b87a0d991cd8",
   "metadata": {},
   "source": [
    "**Exercises**<br>\n",
    "In Japan, even on Saturday I go to school."
   ]
  },
  {
   "cell_type": "markdown",
   "id": "17322d4d-5306-4bb8-a0d0-79f51a92d94f",
   "metadata": {},
   "source": [
    "日本では土曜日でも学校に行きます。"
   ]
  },
  {
   "cell_type": "markdown",
   "id": "3f1e3a50-dc30-4503-919c-2c8ee366e620",
   "metadata": {},
   "source": [
    "Even if I have money, I will not buy a car."
   ]
  },
  {
   "cell_type": "markdown",
   "id": "39d35138-b875-47fd-acb0-63408a6b19a8",
   "metadata": {},
   "source": [
    "お金があっても、車を買いません。"
   ]
  },
  {
   "cell_type": "markdown",
   "id": "0c011d71-0e1e-4e25-81d4-5153ea015d66",
   "metadata": {},
   "source": [
    "Even on my mom's birthday, I do not call home."
   ]
  },
  {
   "cell_type": "markdown",
   "id": "d92905a8-12f4-4b86-8254-04083c738e88",
   "metadata": {},
   "source": [
    "お母さんの誕生日でも、家に電話をしません。"
   ]
  },
  {
   "cell_type": "markdown",
   "id": "aa888df9",
   "metadata": {
    "slideshow": {
     "slide_type": "subslide"
    }
   },
   "source": [
    "#### 3. Asking \"Which\"\n",
    "- \"which/which one\" (of two)\n",
    "  - Include: https://bondlingo.tv/blog/japanese-comparisons-%E3%81%A9%E3%81%A1%E3%82%89%E3%81%8C-%E3%82%88%E3%82%8A-and-%E3%81%BB%E3%81%86%E3%81%8C/#_8211_Which_Which_one"
   ]
  },
  {
   "cell_type": "markdown",
   "id": "e4a70a2f-5e6a-4345-be6c-39b96ed7d5e0",
   "metadata": {},
   "source": [
    "**3. Basic Which**<br>\n",
    "The basic \"which\" is どの (as a determiner, i.e., before nouns), or どれ (as a pronoun):\n",
    "\n",
    "> **Example**<br>\n",
    "> Which restaurant are we eating at?<br>\n",
    "> どのレストランで食べますか？<br>\n",
    "> Which one (i.e., restaurant) are we eating at?<br>\n",
    "> どれで食べますか？<br>\n",
    "\n",
    "If \"which\" is a pronoun and implies direction (e.g., with a verb motion), どちら is expected:\n",
    "\n",
    "> **Example**<br>\n",
    "> Which one are we **going to**?<br>\n",
    "> どちらに行くますか？"
   ]
  },
  {
   "cell_type": "markdown",
   "id": "cc3d4836-c64b-4e2d-b530-698a0faf699b",
   "metadata": {},
   "source": [
    "**3a. [Which is more...](https://bondlingo.tv/blog/japanese-comparisons-%E3%81%A9%E3%81%A1%E3%82%89%E3%81%8C-%E3%82%88%E3%82%8A-and-%E3%81%BB%E3%81%86%E3%81%8C/#_8211_Which_Which_one)**<br>\n",
    "(Noun 1) + と + (Noun 2) + とどちら が + (Adjective) +ですか？\n",
    "\n",
    "...Expresses \"Which is more (Adjective), (Noun 1) or (Noun 2)?\n",
    "\n",
    "> **Example**<br>\n",
    "> Which is tastier, sushi or cucumber?<br>\n",
    "> すしときゅうりとどちらおいしいですか？"
   ]
  },
  {
   "cell_type": "markdown",
   "id": "11fee1b4-33a7-4463-835d-93d2975f189f",
   "metadata": {},
   "source": [
    "**Exercises**<br>\n",
    "Which is harder, German or Japanese?"
   ]
  },
  {
   "cell_type": "markdown",
   "id": "c048302d-6c8f-426e-a376-5d3f0a2e11cb",
   "metadata": {},
   "source": [
    "日本語とドイツ語とどちらむずかしいですか？"
   ]
  },
  {
   "cell_type": "markdown",
   "id": "47a1d5c0-20b7-49f3-babc-b61d21ef3c0a",
   "metadata": {},
   "source": [
    "Which do you like better, France or Spain?"
   ]
  },
  {
   "cell_type": "markdown",
   "id": "a550a99d-e5f4-473f-bdd8-06e2b5e30dbf",
   "metadata": {},
   "source": [
    "スペインとフランスとどちら好きですか？"
   ]
  },
  {
   "cell_type": "markdown",
   "id": "64966672-09d7-4418-9215-933a3854675f",
   "metadata": {},
   "source": [
    "**3b. Interlude: Nominalization of Verb Phrases**<br>\n",
    "Appending の to a verb phrase converts it to a noun. This is called **nominalization**, and we've seen it in the のが好きです construction:\n",
    "\n",
    "> I like watching television.<br>\n",
    "> てれびを見ますのが好きです。\n",
    "\n",
    "The same construction _without_ の is used with \"natural\" nouns:\n",
    "\n",
    "> I like television.<br>\n",
    "> てれびが好きです。"
   ]
  },
  {
   "cell_type": "markdown",
   "id": "9b62100a-23d3-4e11-88a7-0af3242eac34",
   "metadata": {},
   "source": [
    "**3b. Which do you prefer **doing**...**<br>\n",
    "We can use the same construction above to discuss verb phrases by simply suffixing them with の. \n",
    "\n",
    "**N.b.**, in this usage, the plain form is more natural than the polite form. \n",
    "\n",
    "> **Example**<br>\n",
    "> Which is harder, going to school or going to work?<br>\n",
    "> 学校に行きますのと仕事に行きますとどちらむずかしいですか？"
   ]
  },
  {
   "cell_type": "markdown",
   "id": "e780fbd5-af7f-404e-9d8a-81a6d0b6cbad",
   "metadata": {},
   "source": [
    "**Exercises**<br>\n",
    "Which do you like more, reading manga or watching anime?"
   ]
  },
  {
   "cell_type": "markdown",
   "id": "031739db-be98-4dd9-aacf-e287b6e7970f",
   "metadata": {},
   "source": [
    "漫画を読むのとアニメを見るのとどちら好きですか？"
   ]
  },
  {
   "cell_type": "markdown",
   "id": "30ceb1a6-b19b-4dca-9239-a0d222b89a00",
   "metadata": {},
   "source": [
    "Which do you hate more, listening to your teacher or listening to your parents?"
   ]
  },
  {
   "cell_type": "markdown",
   "id": "1fbded04-45b2-4203-a4fa-aa10fa99e1ca",
   "metadata": {},
   "source": [
    "あなたの先生の話を聞くのとご両親の話の聞くとどちら嫌いですか？"
   ]
  },
  {
   "cell_type": "markdown",
   "id": "4da390a7",
   "metadata": {
    "slideshow": {
     "slide_type": "subslide"
    }
   },
   "source": [
    "**3c. Which of all...**<br>\n",
    "The above constructions work only for comparisons between two things. For three or more, a construction with どれ (which) must be used. We will learn two, the first being a natural extension of the expressions above:\n",
    "\n",
    "(Noun A) + と + (Noun B) + と + (Noun C) + の中で、どれが + (Adjective) + ですか？ \n",
    "\n",
    "...Expressing, \"Of Noun A, B, and C, which is most (Adjective)?\"\n",
    "\n",
    "> **Example**<br>\n",
    "> すしと天ぷらとラーメンとの中で、どれが美味しいですか？<br>\n",
    "> Which is tastier, sushi, tempura, or ramen?"
   ]
  },
  {
   "cell_type": "markdown",
   "id": "49452949-ddc5-4a5d-b115-bbcc00f291e2",
   "metadata": {},
   "source": [
    "**Exercises**<br>\n",
    "Which is better, movies, manga, or anime?"
   ]
  },
  {
   "cell_type": "markdown",
   "id": "2a465c4d-23cd-4bcf-9552-2d2f903d976d",
   "metadata": {},
   "source": [
    "映画とアニメと漫画との中で、どれがいいですか？"
   ]
  },
  {
   "cell_type": "markdown",
   "id": "6e2a0884-8cd6-43ca-9def-4cda55d8a4e4",
   "metadata": {},
   "source": [
    "Which is hardest, Japanese, German, or French?"
   ]
  },
  {
   "cell_type": "markdown",
   "id": "3324e1f7-0684-43af-bb3c-609fefc8da5c",
   "metadata": {},
   "source": [
    "日本語とドイツ語とフランス語との中で、どれが難しいですか？"
   ]
  },
  {
   "cell_type": "markdown",
   "id": "491a7bab-9fd4-4cb8-b066-b31314089c64",
   "metadata": {},
   "source": [
    "The same construction can be used to _imply_ a choice of three or more things within a category. It's really the same construction, if you think about it, but it's often listed separately, so here we are.\n",
    "\n",
    "> **Example**<br>\n",
    "> 漫画の中で、どれがいいですか？<br>\n",
    "> Which is the best manga (of all)?"
   ]
  },
  {
   "cell_type": "markdown",
   "id": "c56971ab-55f3-45cc-8e16-0b74fbd9ef2d",
   "metadata": {},
   "source": [
    "**Exercises**<br>\n",
    "Of all anime, which is the most interesting?"
   ]
  },
  {
   "cell_type": "markdown",
   "id": "35d35d22-9ce6-4dfb-8704-3b071846f89a",
   "metadata": {},
   "source": [
    "アニメの中で、どれが面白いですか?"
   ]
  },
  {
   "cell_type": "markdown",
   "id": "c9567895-2c26-4b39-839c-2ea020fb4d82",
   "metadata": {},
   "source": [
    "Of all sushi, which is the most delicious?"
   ]
  },
  {
   "cell_type": "markdown",
   "id": "a6bb5086-f346-49a6-8b1e-9e38b836a42f",
   "metadata": {},
   "source": [
    "すしの中で、どれが美味しいですか？"
   ]
  },
  {
   "cell_type": "markdown",
   "id": "2a38ca24",
   "metadata": {
    "slideshow": {
     "slide_type": "slide"
    }
   },
   "source": [
    "#### Dialogs"
   ]
  },
  {
   "cell_type": "markdown",
   "id": "96f8d73c-34d4-41ec-9fee-81848fa2602c",
   "metadata": {
    "slideshow": {
     "slide_type": "subslide"
    }
   },
   "source": [
    "**Dialog 1: 日本語**<br>\n",
    "A: おはいようございます！<br>\n",
    "B: おはいようございます！<br>\n",
    "A: 私はイナです。こちらは私の友達のエリザです。スペインからきました。どうぞよろしくお願いします。<br>\n",
    "B. 田中です. よろしくお願いします.<br>\n",
    "A: ワインの売場どこにあります教えてください？<br>\n",
    "B: それは--<br>\n",
    "A: すみません。ちょっと飲み物を持ってください。<br>\n",
    "B: ああ...大学を思い出しますか？<br>\n",
    "A: いいえ、思い出しません。昨晩たくさんのワインをのいました。。。<br>\n",
    "B: じゃ。。。ワインの売り場は大学の東側です。駅の隣にあります。<br>\n",
    "A: ああ、朝に駅を見ました！あそこに行きます。 どうもありがとう。<br>\n",
    "B: どういたしまして。<br>\n",
    "A: あ！飲み物を[返して](https://www.kanshudo.com/word/%E8%BF%94%E3%81%99/1512130?oq=%E8%BF%94%E3%81%99)ください。<br>\n",
    "B: すみません。。。も飲みました。<br>\n"
   ]
  },
  {
   "cell_type": "markdown",
   "id": "cdc9608e",
   "metadata": {
    "slideshow": {
     "slide_type": "subslide"
    }
   },
   "source": [
    "**Dialog 1: English**<br>\n",
    "A: Good morning!<br>\n",
    "B: Good morning!<br>\n",
    "A: I am Ina. This is my friend Elisa. We come from Spain. Nice to meet you.<br>\n",
    "B. I'm Tanaka. Nice to meet you.<br>\n",
    "A: Could you please tell me where the wine store is?<br>\n",
    "B: It's on---<br>\n",
    "A: Sorry. Please hold my drink for a minute.<br>\n",
    "B: Okay...Do you remember the university?<br>\n",
    "A: No, I don't remember. I drank a lot of wine last night...<br>\n",
    "B: Well. The wine shope is on the east side of the university. It's next to the train station.<br>\n",
    "A: Oh, I saw the train station this morning! I'll go there now. Thank you.<br>\n",
    "B: You're welcome.<br>\n",
    "A: Oh! Please give my drink back.<br>\n",
    "B: Sorry...I already drank it.<br>"
   ]
  },
  {
   "cell_type": "markdown",
   "id": "4dc996f5",
   "metadata": {
    "slideshow": {
     "slide_type": "subslide"
    }
   },
   "source": [
    "**Dialog 2: 日本語**<br>\n",
    "WIP"
   ]
  },
  {
   "cell_type": "markdown",
   "id": "7f287e93",
   "metadata": {
    "slideshow": {
     "slide_type": "subslide"
    }
   },
   "source": [
    "**Dialog 2: English**<br>\n",
    "WIP"
   ]
  }
 ],
 "metadata": {
  "celltoolbar": "Slideshow",
  "kernelspec": {
   "display_name": "Python 3 (ipykernel)",
   "language": "python",
   "name": "python3"
  },
  "language_info": {
   "codemirror_mode": {
    "name": "ipython",
    "version": 3
   },
   "file_extension": ".py",
   "mimetype": "text/x-python",
   "name": "python",
   "nbconvert_exporter": "python",
   "pygments_lexer": "ipython3",
   "version": "3.10.1"
  }
 },
 "nbformat": 4,
 "nbformat_minor": 5
}
